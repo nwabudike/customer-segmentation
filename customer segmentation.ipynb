{
 "cells": [
  {
   "cell_type": "markdown",
   "metadata": {},
   "source": [
    "## importing libraries"
   ]
  },
  {
   "cell_type": "code",
   "execution_count": 21,
   "metadata": {},
   "outputs": [],
   "source": [
    "import pandas as pd \n",
    "import numpy as np\n",
    "import matplotlib.pyplot as plt\n",
    "%matplotlib inline"
   ]
  },
  {
   "cell_type": "markdown",
   "metadata": {},
   "source": [
    "## Datasets"
   ]
  },
  {
   "cell_type": "code",
   "execution_count": 23,
   "metadata": {},
   "outputs": [
    {
     "data": {
      "text/html": [
       "<div>\n",
       "<style scoped>\n",
       "    .dataframe tbody tr th:only-of-type {\n",
       "        vertical-align: middle;\n",
       "    }\n",
       "\n",
       "    .dataframe tbody tr th {\n",
       "        vertical-align: top;\n",
       "    }\n",
       "\n",
       "    .dataframe thead th {\n",
       "        text-align: right;\n",
       "    }\n",
       "</style>\n",
       "<table border=\"1\" class=\"dataframe\">\n",
       "  <thead>\n",
       "    <tr style=\"text-align: right;\">\n",
       "      <th></th>\n",
       "      <th>CustomerID</th>\n",
       "      <th>Gender</th>\n",
       "      <th>Age</th>\n",
       "      <th>Annual Income (k$)</th>\n",
       "      <th>Spending Score (1-100)</th>\n",
       "    </tr>\n",
       "  </thead>\n",
       "  <tbody>\n",
       "    <tr>\n",
       "      <th>0</th>\n",
       "      <td>1</td>\n",
       "      <td>Male</td>\n",
       "      <td>19</td>\n",
       "      <td>15</td>\n",
       "      <td>39</td>\n",
       "    </tr>\n",
       "    <tr>\n",
       "      <th>1</th>\n",
       "      <td>2</td>\n",
       "      <td>Male</td>\n",
       "      <td>21</td>\n",
       "      <td>15</td>\n",
       "      <td>81</td>\n",
       "    </tr>\n",
       "    <tr>\n",
       "      <th>2</th>\n",
       "      <td>3</td>\n",
       "      <td>Female</td>\n",
       "      <td>20</td>\n",
       "      <td>16</td>\n",
       "      <td>6</td>\n",
       "    </tr>\n",
       "    <tr>\n",
       "      <th>3</th>\n",
       "      <td>4</td>\n",
       "      <td>Female</td>\n",
       "      <td>23</td>\n",
       "      <td>16</td>\n",
       "      <td>77</td>\n",
       "    </tr>\n",
       "    <tr>\n",
       "      <th>4</th>\n",
       "      <td>5</td>\n",
       "      <td>Female</td>\n",
       "      <td>31</td>\n",
       "      <td>17</td>\n",
       "      <td>40</td>\n",
       "    </tr>\n",
       "    <tr>\n",
       "      <th>...</th>\n",
       "      <td>...</td>\n",
       "      <td>...</td>\n",
       "      <td>...</td>\n",
       "      <td>...</td>\n",
       "      <td>...</td>\n",
       "    </tr>\n",
       "    <tr>\n",
       "      <th>195</th>\n",
       "      <td>196</td>\n",
       "      <td>Female</td>\n",
       "      <td>35</td>\n",
       "      <td>120</td>\n",
       "      <td>79</td>\n",
       "    </tr>\n",
       "    <tr>\n",
       "      <th>196</th>\n",
       "      <td>197</td>\n",
       "      <td>Female</td>\n",
       "      <td>45</td>\n",
       "      <td>126</td>\n",
       "      <td>28</td>\n",
       "    </tr>\n",
       "    <tr>\n",
       "      <th>197</th>\n",
       "      <td>198</td>\n",
       "      <td>Male</td>\n",
       "      <td>32</td>\n",
       "      <td>126</td>\n",
       "      <td>74</td>\n",
       "    </tr>\n",
       "    <tr>\n",
       "      <th>198</th>\n",
       "      <td>199</td>\n",
       "      <td>Male</td>\n",
       "      <td>32</td>\n",
       "      <td>137</td>\n",
       "      <td>18</td>\n",
       "    </tr>\n",
       "    <tr>\n",
       "      <th>199</th>\n",
       "      <td>200</td>\n",
       "      <td>Male</td>\n",
       "      <td>30</td>\n",
       "      <td>137</td>\n",
       "      <td>83</td>\n",
       "    </tr>\n",
       "  </tbody>\n",
       "</table>\n",
       "<p>200 rows × 5 columns</p>\n",
       "</div>"
      ],
      "text/plain": [
       "     CustomerID  Gender  Age  Annual Income (k$)  Spending Score (1-100)\n",
       "0             1    Male   19                  15                      39\n",
       "1             2    Male   21                  15                      81\n",
       "2             3  Female   20                  16                       6\n",
       "3             4  Female   23                  16                      77\n",
       "4             5  Female   31                  17                      40\n",
       "..          ...     ...  ...                 ...                     ...\n",
       "195         196  Female   35                 120                      79\n",
       "196         197  Female   45                 126                      28\n",
       "197         198    Male   32                 126                      74\n",
       "198         199    Male   32                 137                      18\n",
       "199         200    Male   30                 137                      83\n",
       "\n",
       "[200 rows x 5 columns]"
      ]
     },
     "execution_count": 23,
     "metadata": {},
     "output_type": "execute_result"
    }
   ],
   "source": [
    "data=pd.read_csv('Mall_Customers.csv')\n",
    "data"
   ]
  },
  {
   "cell_type": "markdown",
   "metadata": {},
   "source": [
    "## performming EDA with dtale"
   ]
  },
  {
   "cell_type": "code",
   "execution_count": 24,
   "metadata": {},
   "outputs": [
    {
     "data": {
      "text/html": [
       "\n",
       "        <iframe\n",
       "            width=\"100%\"\n",
       "            height=\"475\"\n",
       "            src=\"http://user-PC:40000/dtale/iframe/2\"\n",
       "            frameborder=\"0\"\n",
       "            allowfullscreen\n",
       "        ></iframe>\n",
       "        "
      ],
      "text/plain": [
       "<IPython.lib.display.IFrame at 0xf1c0f10>"
      ]
     },
     "metadata": {},
     "output_type": "display_data"
    },
    {
     "data": {
      "text/plain": []
     },
     "execution_count": 24,
     "metadata": {},
     "output_type": "execute_result"
    }
   ],
   "source": [
    "import dtale\n",
    "dtale.show(data)"
   ]
  },
  {
   "cell_type": "markdown",
   "metadata": {},
   "source": [
    "## Label encoding to the Gender column"
   ]
  },
  {
   "cell_type": "code",
   "execution_count": 25,
   "metadata": {},
   "outputs": [],
   "source": [
    "from sklearn.preprocessing import LabelEncoder\n",
    "le=LabelEncoder()\n",
    "data.Gender=le.fit_transform(data.Gender)"
   ]
  },
  {
   "cell_type": "code",
   "execution_count": 26,
   "metadata": {},
   "outputs": [],
   "source": [
    "data=data.drop('CustomerID',axis=1)"
   ]
  },
  {
   "cell_type": "markdown",
   "metadata": {},
   "source": [
    "drop useless columns"
   ]
  },
  {
   "cell_type": "code",
   "execution_count": 27,
   "metadata": {},
   "outputs": [
    {
     "data": {
      "text/html": [
       "<div>\n",
       "<style scoped>\n",
       "    .dataframe tbody tr th:only-of-type {\n",
       "        vertical-align: middle;\n",
       "    }\n",
       "\n",
       "    .dataframe tbody tr th {\n",
       "        vertical-align: top;\n",
       "    }\n",
       "\n",
       "    .dataframe thead th {\n",
       "        text-align: right;\n",
       "    }\n",
       "</style>\n",
       "<table border=\"1\" class=\"dataframe\">\n",
       "  <thead>\n",
       "    <tr style=\"text-align: right;\">\n",
       "      <th></th>\n",
       "      <th>Gender</th>\n",
       "      <th>Age</th>\n",
       "      <th>Annual Income (k$)</th>\n",
       "      <th>Spending Score (1-100)</th>\n",
       "    </tr>\n",
       "  </thead>\n",
       "  <tbody>\n",
       "    <tr>\n",
       "      <th>0</th>\n",
       "      <td>1</td>\n",
       "      <td>19</td>\n",
       "      <td>15</td>\n",
       "      <td>39</td>\n",
       "    </tr>\n",
       "    <tr>\n",
       "      <th>1</th>\n",
       "      <td>1</td>\n",
       "      <td>21</td>\n",
       "      <td>15</td>\n",
       "      <td>81</td>\n",
       "    </tr>\n",
       "    <tr>\n",
       "      <th>2</th>\n",
       "      <td>0</td>\n",
       "      <td>20</td>\n",
       "      <td>16</td>\n",
       "      <td>6</td>\n",
       "    </tr>\n",
       "    <tr>\n",
       "      <th>3</th>\n",
       "      <td>0</td>\n",
       "      <td>23</td>\n",
       "      <td>16</td>\n",
       "      <td>77</td>\n",
       "    </tr>\n",
       "    <tr>\n",
       "      <th>4</th>\n",
       "      <td>0</td>\n",
       "      <td>31</td>\n",
       "      <td>17</td>\n",
       "      <td>40</td>\n",
       "    </tr>\n",
       "    <tr>\n",
       "      <th>...</th>\n",
       "      <td>...</td>\n",
       "      <td>...</td>\n",
       "      <td>...</td>\n",
       "      <td>...</td>\n",
       "    </tr>\n",
       "    <tr>\n",
       "      <th>195</th>\n",
       "      <td>0</td>\n",
       "      <td>35</td>\n",
       "      <td>120</td>\n",
       "      <td>79</td>\n",
       "    </tr>\n",
       "    <tr>\n",
       "      <th>196</th>\n",
       "      <td>0</td>\n",
       "      <td>45</td>\n",
       "      <td>126</td>\n",
       "      <td>28</td>\n",
       "    </tr>\n",
       "    <tr>\n",
       "      <th>197</th>\n",
       "      <td>1</td>\n",
       "      <td>32</td>\n",
       "      <td>126</td>\n",
       "      <td>74</td>\n",
       "    </tr>\n",
       "    <tr>\n",
       "      <th>198</th>\n",
       "      <td>1</td>\n",
       "      <td>32</td>\n",
       "      <td>137</td>\n",
       "      <td>18</td>\n",
       "    </tr>\n",
       "    <tr>\n",
       "      <th>199</th>\n",
       "      <td>1</td>\n",
       "      <td>30</td>\n",
       "      <td>137</td>\n",
       "      <td>83</td>\n",
       "    </tr>\n",
       "  </tbody>\n",
       "</table>\n",
       "<p>200 rows × 4 columns</p>\n",
       "</div>"
      ],
      "text/plain": [
       "     Gender  Age  Annual Income (k$)  Spending Score (1-100)\n",
       "0         1   19                  15                      39\n",
       "1         1   21                  15                      81\n",
       "2         0   20                  16                       6\n",
       "3         0   23                  16                      77\n",
       "4         0   31                  17                      40\n",
       "..      ...  ...                 ...                     ...\n",
       "195       0   35                 120                      79\n",
       "196       0   45                 126                      28\n",
       "197       1   32                 126                      74\n",
       "198       1   32                 137                      18\n",
       "199       1   30                 137                      83\n",
       "\n",
       "[200 rows x 4 columns]"
      ]
     },
     "execution_count": 27,
     "metadata": {},
     "output_type": "execute_result"
    }
   ],
   "source": [
    "data"
   ]
  },
  {
   "cell_type": "markdown",
   "metadata": {},
   "source": [
    "## segmentation based on annual income and spending score"
   ]
  },
  {
   "cell_type": "code",
   "execution_count": 28,
   "metadata": {},
   "outputs": [],
   "source": [
    "x=data[['Annual Income (k$)','Spending Score (1-100)']].values"
   ]
  },
  {
   "cell_type": "code",
   "execution_count": 29,
   "metadata": {},
   "outputs": [
    {
     "data": {
      "text/plain": [
       "array([[ 15,  39],\n",
       "       [ 15,  81],\n",
       "       [ 16,   6],\n",
       "       [ 16,  77],\n",
       "       [ 17,  40],\n",
       "       [ 17,  76],\n",
       "       [ 18,   6],\n",
       "       [ 18,  94],\n",
       "       [ 19,   3],\n",
       "       [ 19,  72],\n",
       "       [ 19,  14],\n",
       "       [ 19,  99],\n",
       "       [ 20,  15],\n",
       "       [ 20,  77],\n",
       "       [ 20,  13],\n",
       "       [ 20,  79],\n",
       "       [ 21,  35],\n",
       "       [ 21,  66],\n",
       "       [ 23,  29],\n",
       "       [ 23,  98],\n",
       "       [ 24,  35],\n",
       "       [ 24,  73],\n",
       "       [ 25,   5],\n",
       "       [ 25,  73],\n",
       "       [ 28,  14],\n",
       "       [ 28,  82],\n",
       "       [ 28,  32],\n",
       "       [ 28,  61],\n",
       "       [ 29,  31],\n",
       "       [ 29,  87],\n",
       "       [ 30,   4],\n",
       "       [ 30,  73],\n",
       "       [ 33,   4],\n",
       "       [ 33,  92],\n",
       "       [ 33,  14],\n",
       "       [ 33,  81],\n",
       "       [ 34,  17],\n",
       "       [ 34,  73],\n",
       "       [ 37,  26],\n",
       "       [ 37,  75],\n",
       "       [ 38,  35],\n",
       "       [ 38,  92],\n",
       "       [ 39,  36],\n",
       "       [ 39,  61],\n",
       "       [ 39,  28],\n",
       "       [ 39,  65],\n",
       "       [ 40,  55],\n",
       "       [ 40,  47],\n",
       "       [ 40,  42],\n",
       "       [ 40,  42],\n",
       "       [ 42,  52],\n",
       "       [ 42,  60],\n",
       "       [ 43,  54],\n",
       "       [ 43,  60],\n",
       "       [ 43,  45],\n",
       "       [ 43,  41],\n",
       "       [ 44,  50],\n",
       "       [ 44,  46],\n",
       "       [ 46,  51],\n",
       "       [ 46,  46],\n",
       "       [ 46,  56],\n",
       "       [ 46,  55],\n",
       "       [ 47,  52],\n",
       "       [ 47,  59],\n",
       "       [ 48,  51],\n",
       "       [ 48,  59],\n",
       "       [ 48,  50],\n",
       "       [ 48,  48],\n",
       "       [ 48,  59],\n",
       "       [ 48,  47],\n",
       "       [ 49,  55],\n",
       "       [ 49,  42],\n",
       "       [ 50,  49],\n",
       "       [ 50,  56],\n",
       "       [ 54,  47],\n",
       "       [ 54,  54],\n",
       "       [ 54,  53],\n",
       "       [ 54,  48],\n",
       "       [ 54,  52],\n",
       "       [ 54,  42],\n",
       "       [ 54,  51],\n",
       "       [ 54,  55],\n",
       "       [ 54,  41],\n",
       "       [ 54,  44],\n",
       "       [ 54,  57],\n",
       "       [ 54,  46],\n",
       "       [ 57,  58],\n",
       "       [ 57,  55],\n",
       "       [ 58,  60],\n",
       "       [ 58,  46],\n",
       "       [ 59,  55],\n",
       "       [ 59,  41],\n",
       "       [ 60,  49],\n",
       "       [ 60,  40],\n",
       "       [ 60,  42],\n",
       "       [ 60,  52],\n",
       "       [ 60,  47],\n",
       "       [ 60,  50],\n",
       "       [ 61,  42],\n",
       "       [ 61,  49],\n",
       "       [ 62,  41],\n",
       "       [ 62,  48],\n",
       "       [ 62,  59],\n",
       "       [ 62,  55],\n",
       "       [ 62,  56],\n",
       "       [ 62,  42],\n",
       "       [ 63,  50],\n",
       "       [ 63,  46],\n",
       "       [ 63,  43],\n",
       "       [ 63,  48],\n",
       "       [ 63,  52],\n",
       "       [ 63,  54],\n",
       "       [ 64,  42],\n",
       "       [ 64,  46],\n",
       "       [ 65,  48],\n",
       "       [ 65,  50],\n",
       "       [ 65,  43],\n",
       "       [ 65,  59],\n",
       "       [ 67,  43],\n",
       "       [ 67,  57],\n",
       "       [ 67,  56],\n",
       "       [ 67,  40],\n",
       "       [ 69,  58],\n",
       "       [ 69,  91],\n",
       "       [ 70,  29],\n",
       "       [ 70,  77],\n",
       "       [ 71,  35],\n",
       "       [ 71,  95],\n",
       "       [ 71,  11],\n",
       "       [ 71,  75],\n",
       "       [ 71,   9],\n",
       "       [ 71,  75],\n",
       "       [ 72,  34],\n",
       "       [ 72,  71],\n",
       "       [ 73,   5],\n",
       "       [ 73,  88],\n",
       "       [ 73,   7],\n",
       "       [ 73,  73],\n",
       "       [ 74,  10],\n",
       "       [ 74,  72],\n",
       "       [ 75,   5],\n",
       "       [ 75,  93],\n",
       "       [ 76,  40],\n",
       "       [ 76,  87],\n",
       "       [ 77,  12],\n",
       "       [ 77,  97],\n",
       "       [ 77,  36],\n",
       "       [ 77,  74],\n",
       "       [ 78,  22],\n",
       "       [ 78,  90],\n",
       "       [ 78,  17],\n",
       "       [ 78,  88],\n",
       "       [ 78,  20],\n",
       "       [ 78,  76],\n",
       "       [ 78,  16],\n",
       "       [ 78,  89],\n",
       "       [ 78,   1],\n",
       "       [ 78,  78],\n",
       "       [ 78,   1],\n",
       "       [ 78,  73],\n",
       "       [ 79,  35],\n",
       "       [ 79,  83],\n",
       "       [ 81,   5],\n",
       "       [ 81,  93],\n",
       "       [ 85,  26],\n",
       "       [ 85,  75],\n",
       "       [ 86,  20],\n",
       "       [ 86,  95],\n",
       "       [ 87,  27],\n",
       "       [ 87,  63],\n",
       "       [ 87,  13],\n",
       "       [ 87,  75],\n",
       "       [ 87,  10],\n",
       "       [ 87,  92],\n",
       "       [ 88,  13],\n",
       "       [ 88,  86],\n",
       "       [ 88,  15],\n",
       "       [ 88,  69],\n",
       "       [ 93,  14],\n",
       "       [ 93,  90],\n",
       "       [ 97,  32],\n",
       "       [ 97,  86],\n",
       "       [ 98,  15],\n",
       "       [ 98,  88],\n",
       "       [ 99,  39],\n",
       "       [ 99,  97],\n",
       "       [101,  24],\n",
       "       [101,  68],\n",
       "       [103,  17],\n",
       "       [103,  85],\n",
       "       [103,  23],\n",
       "       [103,  69],\n",
       "       [113,   8],\n",
       "       [113,  91],\n",
       "       [120,  16],\n",
       "       [120,  79],\n",
       "       [126,  28],\n",
       "       [126,  74],\n",
       "       [137,  18],\n",
       "       [137,  83]], dtype=int64)"
      ]
     },
     "execution_count": 29,
     "metadata": {},
     "output_type": "execute_result"
    }
   ],
   "source": [
    "x"
   ]
  },
  {
   "cell_type": "markdown",
   "metadata": {},
   "source": [
    "## Best number of cluster"
   ]
  },
  {
   "cell_type": "code",
   "execution_count": 30,
   "metadata": {},
   "outputs": [
    {
     "data": {
      "image/png": "[encoded data removed]",
      "text/plain": [
       "<Figure size 432x288 with 1 Axes>"
      ]
     },
     "metadata": {
      "needs_background": "light"
     },
     "output_type": "display_data"
    }
   ],
   "source": [
    "from sklearn.cluster import KMeans\n",
    "wcss=[]\n",
    "for i in range(1,11):\n",
    "    kmeans=KMeans(n_clusters=i,init='k-means++',random_state=42).fit(x)\n",
    "    kmeans.fit(x)\n",
    "    wcss.append(kmeans.inertia_)\n",
    "plt.plot(range(1,11),wcss,'bx-')\n",
    "plt.show()"
   ]
  },
  {
   "cell_type": "markdown",
   "metadata": {},
   "source": [
    "best cluster is 5"
   ]
  },
  {
   "cell_type": "markdown",
   "metadata": {},
   "source": [
    "## getting the classes"
   ]
  },
  {
   "cell_type": "code",
   "execution_count": 31,
   "metadata": {},
   "outputs": [],
   "source": [
    "model=KMeans(n_clusters=5,init='k-means++',random_state=42)\n",
    "label=model.fit_predict(x)"
   ]
  },
  {
   "cell_type": "code",
   "execution_count": 32,
   "metadata": {},
   "outputs": [
    {
     "data": {
      "text/plain": [
       "array([2, 3, 2, 3, 2, 3, 2, 3, 2, 3, 2, 3, 2, 3, 2, 3, 2, 3, 2, 3, 2, 3,\n",
       "       2, 3, 2, 3, 2, 3, 2, 3, 2, 3, 2, 3, 2, 3, 2, 3, 2, 3, 2, 3, 2, 0,\n",
       "       2, 3, 0, 0, 0, 0, 0, 0, 0, 0, 0, 0, 0, 0, 0, 0, 0, 0, 0, 0, 0, 0,\n",
       "       0, 0, 0, 0, 0, 0, 0, 0, 0, 0, 0, 0, 0, 0, 0, 0, 0, 0, 0, 0, 0, 0,\n",
       "       0, 0, 0, 0, 0, 0, 0, 0, 0, 0, 0, 0, 0, 0, 0, 0, 0, 0, 0, 0, 0, 0,\n",
       "       0, 0, 0, 0, 0, 0, 0, 0, 0, 0, 0, 0, 0, 4, 1, 4, 0, 4, 1, 4, 1, 4,\n",
       "       0, 4, 1, 4, 1, 4, 1, 4, 1, 4, 0, 4, 1, 4, 1, 4, 1, 4, 1, 4, 1, 4,\n",
       "       1, 4, 1, 4, 1, 4, 1, 4, 1, 4, 1, 4, 1, 4, 1, 4, 1, 4, 1, 4, 1, 4,\n",
       "       1, 4, 1, 4, 1, 4, 1, 4, 1, 4, 1, 4, 1, 4, 1, 4, 1, 4, 1, 4, 1, 4,\n",
       "       1, 4])"
      ]
     },
     "execution_count": 32,
     "metadata": {},
     "output_type": "execute_result"
    }
   ],
   "source": [
    "label"
   ]
  },
  {
   "cell_type": "markdown",
   "metadata": {},
   "source": [
    "## visualizing the classes"
   ]
  },
  {
   "cell_type": "code",
   "execution_count": 33,
   "metadata": {},
   "outputs": [
    {
     "data": {
      "image/png": "[encoded data removed]",
      "text/plain": [
       "<Figure size 432x288 with 1 Axes>"
      ]
     },
     "metadata": {
      "needs_background": "light"
     },
     "output_type": "display_data"
    }
   ],
   "source": [
    "#Getting unique labels\n",
    " \n",
    "u_labels = np.unique(label)\n",
    " \n",
    "#plotting the results:\n",
    " \n",
    "for i in u_labels:\n",
    "    plt.scatter(x[label == i , 0] , x[label == i , 1] , label = i)\n",
    "plt.legend()\n",
    "plt.show()"
   ]
  },
  {
   "cell_type": "markdown",
   "metadata": {},
   "source": [
    "## segmentation based on age and spending score"
   ]
  },
  {
   "cell_type": "code",
   "execution_count": 34,
   "metadata": {},
   "outputs": [
    {
     "data": {
      "text/plain": [
       "array([[19, 39],\n",
       "       [21, 81],\n",
       "       [20,  6],\n",
       "       [23, 77],\n",
       "       [31, 40],\n",
       "       [22, 76],\n",
       "       [35,  6],\n",
       "       [23, 94],\n",
       "       [64,  3],\n",
       "       [30, 72],\n",
       "       [67, 14],\n",
       "       [35, 99],\n",
       "       [58, 15],\n",
       "       [24, 77],\n",
       "       [37, 13],\n",
       "       [22, 79],\n",
       "       [35, 35],\n",
       "       [20, 66],\n",
       "       [52, 29],\n",
       "       [35, 98],\n",
       "       [35, 35],\n",
       "       [25, 73],\n",
       "       [46,  5],\n",
       "       [31, 73],\n",
       "       [54, 14],\n",
       "       [29, 82],\n",
       "       [45, 32],\n",
       "       [35, 61],\n",
       "       [40, 31],\n",
       "       [23, 87],\n",
       "       [60,  4],\n",
       "       [21, 73],\n",
       "       [53,  4],\n",
       "       [18, 92],\n",
       "       [49, 14],\n",
       "       [21, 81],\n",
       "       [42, 17],\n",
       "       [30, 73],\n",
       "       [36, 26],\n",
       "       [20, 75],\n",
       "       [65, 35],\n",
       "       [24, 92],\n",
       "       [48, 36],\n",
       "       [31, 61],\n",
       "       [49, 28],\n",
       "       [24, 65],\n",
       "       [50, 55],\n",
       "       [27, 47],\n",
       "       [29, 42],\n",
       "       [31, 42],\n",
       "       [49, 52],\n",
       "       [33, 60],\n",
       "       [31, 54],\n",
       "       [59, 60],\n",
       "       [50, 45],\n",
       "       [47, 41],\n",
       "       [51, 50],\n",
       "       [69, 46],\n",
       "       [27, 51],\n",
       "       [53, 46],\n",
       "       [70, 56],\n",
       "       [19, 55],\n",
       "       [67, 52],\n",
       "       [54, 59],\n",
       "       [63, 51],\n",
       "       [18, 59],\n",
       "       [43, 50],\n",
       "       [68, 48],\n",
       "       [19, 59],\n",
       "       [32, 47],\n",
       "       [70, 55],\n",
       "       [47, 42],\n",
       "       [60, 49],\n",
       "       [60, 56],\n",
       "       [59, 47],\n",
       "       [26, 54],\n",
       "       [45, 53],\n",
       "       [40, 48],\n",
       "       [23, 52],\n",
       "       [49, 42],\n",
       "       [57, 51],\n",
       "       [38, 55],\n",
       "       [67, 41],\n",
       "       [46, 44],\n",
       "       [21, 57],\n",
       "       [48, 46],\n",
       "       [55, 58],\n",
       "       [22, 55],\n",
       "       [34, 60],\n",
       "       [50, 46],\n",
       "       [68, 55],\n",
       "       [18, 41],\n",
       "       [48, 49],\n",
       "       [40, 40],\n",
       "       [32, 42],\n",
       "       [24, 52],\n",
       "       [47, 47],\n",
       "       [27, 50],\n",
       "       [48, 42],\n",
       "       [20, 49],\n",
       "       [23, 41],\n",
       "       [49, 48],\n",
       "       [67, 59],\n",
       "       [26, 55],\n",
       "       [49, 56],\n",
       "       [21, 42],\n",
       "       [66, 50],\n",
       "       [54, 46],\n",
       "       [68, 43],\n",
       "       [66, 48],\n",
       "       [65, 52],\n",
       "       [19, 54],\n",
       "       [38, 42],\n",
       "       [19, 46],\n",
       "       [18, 48],\n",
       "       [19, 50],\n",
       "       [63, 43],\n",
       "       [49, 59],\n",
       "       [51, 43],\n",
       "       [50, 57],\n",
       "       [27, 56],\n",
       "       [38, 40],\n",
       "       [40, 58],\n",
       "       [39, 91],\n",
       "       [23, 29],\n",
       "       [31, 77],\n",
       "       [43, 35],\n",
       "       [40, 95],\n",
       "       [59, 11],\n",
       "       [38, 75],\n",
       "       [47,  9],\n",
       "       [39, 75],\n",
       "       [25, 34],\n",
       "       [31, 71],\n",
       "       [20,  5],\n",
       "       [29, 88],\n",
       "       [44,  7],\n",
       "       [32, 73],\n",
       "       [19, 10],\n",
       "       [35, 72],\n",
       "       [57,  5],\n",
       "       [32, 93],\n",
       "       [28, 40],\n",
       "       [32, 87],\n",
       "       [25, 12],\n",
       "       [28, 97],\n",
       "       [48, 36],\n",
       "       [32, 74],\n",
       "       [34, 22],\n",
       "       [34, 90],\n",
       "       [43, 17],\n",
       "       [39, 88],\n",
       "       [44, 20],\n",
       "       [38, 76],\n",
       "       [47, 16],\n",
       "       [27, 89],\n",
       "       [37,  1],\n",
       "       [30, 78],\n",
       "       [34,  1],\n",
       "       [30, 73],\n",
       "       [56, 35],\n",
       "       [29, 83],\n",
       "       [19,  5],\n",
       "       [31, 93],\n",
       "       [50, 26],\n",
       "       [36, 75],\n",
       "       [42, 20],\n",
       "       [33, 95],\n",
       "       [36, 27],\n",
       "       [32, 63],\n",
       "       [40, 13],\n",
       "       [28, 75],\n",
       "       [36, 10],\n",
       "       [36, 92],\n",
       "       [52, 13],\n",
       "       [30, 86],\n",
       "       [58, 15],\n",
       "       [27, 69],\n",
       "       [59, 14],\n",
       "       [35, 90],\n",
       "       [37, 32],\n",
       "       [32, 86],\n",
       "       [46, 15],\n",
       "       [29, 88],\n",
       "       [41, 39],\n",
       "       [30, 97],\n",
       "       [54, 24],\n",
       "       [28, 68],\n",
       "       [41, 17],\n",
       "       [36, 85],\n",
       "       [34, 23],\n",
       "       [32, 69],\n",
       "       [33,  8],\n",
       "       [38, 91],\n",
       "       [47, 16],\n",
       "       [35, 79],\n",
       "       [45, 28],\n",
       "       [32, 74],\n",
       "       [32, 18],\n",
       "       [30, 83]], dtype=int64)"
      ]
     },
     "execution_count": 34,
     "metadata": {},
     "output_type": "execute_result"
    }
   ],
   "source": [
    "x1=data[['Age','Spending Score (1-100)']].values\n",
    "x1"
   ]
  },
  {
   "cell_type": "markdown",
   "metadata": {},
   "source": [
    "## checking for best number of cluster"
   ]
  },
  {
   "cell_type": "code",
   "execution_count": 35,
   "metadata": {},
   "outputs": [
    {
     "data": {
      "image/png": "[encoded data removed]",
      "text/plain": [
       "<Figure size 432x288 with 1 Axes>"
      ]
     },
     "metadata": {
      "needs_background": "light"
     },
     "output_type": "display_data"
    }
   ],
   "source": [
    "from sklearn.cluster import KMeans\n",
    "wcss=[]\n",
    "for i in range(1,11):\n",
    "    kmeans=KMeans(n_clusters=i,init='k-means++',random_state=42).fit(x1)\n",
    "    kmeans.fit(x1)\n",
    "    wcss.append(kmeans.inertia_)\n",
    "plt.plot(range(1,11),wcss,'bx-')\n",
    "plt.show()"
   ]
  },
  {
   "cell_type": "markdown",
   "metadata": {},
   "source": [
    "best cluster is 4"
   ]
  },
  {
   "cell_type": "markdown",
   "metadata": {},
   "source": [
    "## getting the classes\n"
   ]
  },
  {
   "cell_type": "code",
   "execution_count": 36,
   "metadata": {},
   "outputs": [],
   "source": [
    "model=KMeans(n_clusters=3,init='k-means++',random_state=42)\n",
    "label=model.fit_predict(x1)"
   ]
  },
  {
   "cell_type": "markdown",
   "metadata": {},
   "source": [
    "## visualizing the classes"
   ]
  },
  {
   "cell_type": "code",
   "execution_count": 37,
   "metadata": {},
   "outputs": [
    {
     "data": {
      "image/png": "[encoded data removed]",
      "text/plain": [
       "<Figure size 432x288 with 1 Axes>"
      ]
     },
     "metadata": {
      "needs_background": "light"
     },
     "output_type": "display_data"
    }
   ],
   "source": [
    "#Getting unique labels\n",
    " \n",
    "u_labels = np.unique(label)\n",
    " \n",
    "#plotting the results:\n",
    " \n",
    "for i in u_labels:\n",
    "    plt.scatter(x1[label == i , 0] , x1[label == i , 1] , label = i)\n",
    "plt.legend()\n",
    "plt.show()"
   ]
  },
  {
   "cell_type": "markdown",
   "metadata": {},
   "source": [
    "## segmentation based on Gender and spending score"
   ]
  },
  {
   "cell_type": "code",
   "execution_count": 38,
   "metadata": {},
   "outputs": [
    {
     "data": {
      "text/plain": [
       "array([[ 1, 39],\n",
       "       [ 1, 81],\n",
       "       [ 0,  6],\n",
       "       [ 0, 77],\n",
       "       [ 0, 40],\n",
       "       [ 0, 76],\n",
       "       [ 0,  6],\n",
       "       [ 0, 94],\n",
       "       [ 1,  3],\n",
       "       [ 0, 72],\n",
       "       [ 1, 14],\n",
       "       [ 0, 99],\n",
       "       [ 0, 15],\n",
       "       [ 0, 77],\n",
       "       [ 1, 13],\n",
       "       [ 1, 79],\n",
       "       [ 0, 35],\n",
       "       [ 1, 66],\n",
       "       [ 1, 29],\n",
       "       [ 0, 98],\n",
       "       [ 1, 35],\n",
       "       [ 1, 73],\n",
       "       [ 0,  5],\n",
       "       [ 1, 73],\n",
       "       [ 0, 14],\n",
       "       [ 1, 82],\n",
       "       [ 0, 32],\n",
       "       [ 1, 61],\n",
       "       [ 0, 31],\n",
       "       [ 0, 87],\n",
       "       [ 1,  4],\n",
       "       [ 0, 73],\n",
       "       [ 1,  4],\n",
       "       [ 1, 92],\n",
       "       [ 0, 14],\n",
       "       [ 0, 81],\n",
       "       [ 0, 17],\n",
       "       [ 0, 73],\n",
       "       [ 0, 26],\n",
       "       [ 0, 75],\n",
       "       [ 0, 35],\n",
       "       [ 1, 92],\n",
       "       [ 1, 36],\n",
       "       [ 0, 61],\n",
       "       [ 0, 28],\n",
       "       [ 0, 65],\n",
       "       [ 0, 55],\n",
       "       [ 0, 47],\n",
       "       [ 0, 42],\n",
       "       [ 0, 42],\n",
       "       [ 0, 52],\n",
       "       [ 1, 60],\n",
       "       [ 0, 54],\n",
       "       [ 1, 60],\n",
       "       [ 0, 45],\n",
       "       [ 1, 41],\n",
       "       [ 0, 50],\n",
       "       [ 1, 46],\n",
       "       [ 0, 51],\n",
       "       [ 1, 46],\n",
       "       [ 1, 56],\n",
       "       [ 1, 55],\n",
       "       [ 0, 52],\n",
       "       [ 0, 59],\n",
       "       [ 1, 51],\n",
       "       [ 1, 59],\n",
       "       [ 0, 50],\n",
       "       [ 0, 48],\n",
       "       [ 1, 59],\n",
       "       [ 0, 47],\n",
       "       [ 1, 55],\n",
       "       [ 0, 42],\n",
       "       [ 0, 49],\n",
       "       [ 0, 56],\n",
       "       [ 1, 47],\n",
       "       [ 1, 54],\n",
       "       [ 0, 53],\n",
       "       [ 1, 48],\n",
       "       [ 0, 52],\n",
       "       [ 0, 42],\n",
       "       [ 1, 51],\n",
       "       [ 1, 55],\n",
       "       [ 1, 41],\n",
       "       [ 0, 44],\n",
       "       [ 0, 57],\n",
       "       [ 1, 46],\n",
       "       [ 0, 58],\n",
       "       [ 0, 55],\n",
       "       [ 0, 60],\n",
       "       [ 0, 46],\n",
       "       [ 0, 55],\n",
       "       [ 1, 41],\n",
       "       [ 1, 49],\n",
       "       [ 0, 40],\n",
       "       [ 0, 42],\n",
       "       [ 1, 52],\n",
       "       [ 0, 47],\n",
       "       [ 0, 50],\n",
       "       [ 1, 42],\n",
       "       [ 1, 49],\n",
       "       [ 0, 41],\n",
       "       [ 0, 48],\n",
       "       [ 1, 59],\n",
       "       [ 1, 55],\n",
       "       [ 1, 56],\n",
       "       [ 0, 42],\n",
       "       [ 0, 50],\n",
       "       [ 1, 46],\n",
       "       [ 1, 43],\n",
       "       [ 1, 48],\n",
       "       [ 1, 52],\n",
       "       [ 0, 54],\n",
       "       [ 0, 42],\n",
       "       [ 1, 46],\n",
       "       [ 0, 48],\n",
       "       [ 0, 50],\n",
       "       [ 0, 43],\n",
       "       [ 0, 59],\n",
       "       [ 0, 43],\n",
       "       [ 0, 57],\n",
       "       [ 1, 56],\n",
       "       [ 0, 40],\n",
       "       [ 0, 58],\n",
       "       [ 1, 91],\n",
       "       [ 0, 29],\n",
       "       [ 0, 77],\n",
       "       [ 1, 35],\n",
       "       [ 1, 95],\n",
       "       [ 1, 11],\n",
       "       [ 1, 75],\n",
       "       [ 1,  9],\n",
       "       [ 1, 75],\n",
       "       [ 0, 34],\n",
       "       [ 0, 71],\n",
       "       [ 1,  5],\n",
       "       [ 0, 88],\n",
       "       [ 0,  7],\n",
       "       [ 1, 73],\n",
       "       [ 1, 10],\n",
       "       [ 0, 72],\n",
       "       [ 0,  5],\n",
       "       [ 1, 93],\n",
       "       [ 0, 40],\n",
       "       [ 0, 87],\n",
       "       [ 1, 12],\n",
       "       [ 1, 97],\n",
       "       [ 1, 36],\n",
       "       [ 0, 74],\n",
       "       [ 0, 22],\n",
       "       [ 1, 90],\n",
       "       [ 1, 17],\n",
       "       [ 1, 88],\n",
       "       [ 0, 20],\n",
       "       [ 0, 76],\n",
       "       [ 0, 16],\n",
       "       [ 0, 89],\n",
       "       [ 1,  1],\n",
       "       [ 0, 78],\n",
       "       [ 1,  1],\n",
       "       [ 0, 73],\n",
       "       [ 0, 35],\n",
       "       [ 0, 83],\n",
       "       [ 1,  5],\n",
       "       [ 0, 93],\n",
       "       [ 1, 26],\n",
       "       [ 0, 75],\n",
       "       [ 1, 20],\n",
       "       [ 0, 95],\n",
       "       [ 0, 27],\n",
       "       [ 1, 63],\n",
       "       [ 1, 13],\n",
       "       [ 1, 75],\n",
       "       [ 1, 10],\n",
       "       [ 1, 92],\n",
       "       [ 0, 13],\n",
       "       [ 0, 86],\n",
       "       [ 1, 15],\n",
       "       [ 1, 69],\n",
       "       [ 1, 14],\n",
       "       [ 1, 90],\n",
       "       [ 0, 32],\n",
       "       [ 0, 86],\n",
       "       [ 1, 15],\n",
       "       [ 0, 88],\n",
       "       [ 0, 39],\n",
       "       [ 1, 97],\n",
       "       [ 0, 24],\n",
       "       [ 1, 68],\n",
       "       [ 0, 17],\n",
       "       [ 0, 85],\n",
       "       [ 0, 23],\n",
       "       [ 0, 69],\n",
       "       [ 1,  8],\n",
       "       [ 0, 91],\n",
       "       [ 0, 16],\n",
       "       [ 0, 79],\n",
       "       [ 0, 28],\n",
       "       [ 1, 74],\n",
       "       [ 1, 18],\n",
       "       [ 1, 83]], dtype=int64)"
      ]
     },
     "execution_count": 38,
     "metadata": {},
     "output_type": "execute_result"
    }
   ],
   "source": [
    "x2=data[['Gender','Spending Score (1-100)']].values\n",
    "x2"
   ]
  },
  {
   "cell_type": "markdown",
   "metadata": {},
   "source": [
    "## checking for best cluster"
   ]
  },
  {
   "cell_type": "code",
   "execution_count": 39,
   "metadata": {},
   "outputs": [
    {
     "data": {
      "image/png": "[encoded data removed]",
      "text/plain": [
       "<Figure size 432x288 with 1 Axes>"
      ]
     },
     "metadata": {
      "needs_background": "light"
     },
     "output_type": "display_data"
    }
   ],
   "source": [
    "from sklearn.cluster import KMeans\n",
    "wcss=[]\n",
    "for i in range(1,11):\n",
    "    kmeans=KMeans(n_clusters=i,init='k-means++',random_state=42).fit(x2)\n",
    "    kmeans.fit(x2)\n",
    "    wcss.append(kmeans.inertia_)\n",
    "plt.plot(range(1,11),wcss,'bx-')\n",
    "plt.show()"
   ]
  },
  {
   "cell_type": "markdown",
   "metadata": {},
   "source": [
    "best cluster is 2"
   ]
  },
  {
   "cell_type": "markdown",
   "metadata": {},
   "source": [
    "## getting the classes"
   ]
  },
  {
   "cell_type": "code",
   "execution_count": 40,
   "metadata": {},
   "outputs": [],
   "source": [
    "model=KMeans(n_clusters=2,init='k-means++',random_state=42)\n",
    "label=model.fit_predict(x2)"
   ]
  },
  {
   "cell_type": "markdown",
   "metadata": {},
   "source": [
    "## visualizing the classes"
   ]
  },
  {
   "cell_type": "code",
   "execution_count": 41,
   "metadata": {},
   "outputs": [
    {
     "data": {
      "image/png": "[encoded data removed]",
      "text/plain": [
       "<Figure size 432x288 with 1 Axes>"
      ]
     },
     "metadata": {
      "needs_background": "light"
     },
     "output_type": "display_data"
    },
    {
     "name": "stdout",
     "output_type": "stream",
     "text": [
      "Executing shutdown due to inactivity...\n"
     ]
    },
    {
     "name": "stderr",
     "output_type": "stream",
     "text": [
      "2022-02-03 19:14:09,151 - INFO     - Executing shutdown due to inactivity...\n"
     ]
    }
   ],
   "source": [
    "#Getting unique labels\n",
    " \n",
    "u_labels = np.unique(label)\n",
    " \n",
    "#plotting the results:\n",
    " \n",
    "for i in u_labels:\n",
    "    plt.scatter(x2[label == i , 0] , x2[label == i , 1] , label = i)\n",
    "plt.legend()\n",
    "plt.show()"
   ]
  },
  {
   "cell_type": "code",
   "execution_count": null,
   "metadata": {},
   "outputs": [],
   "source": []
  },
  {
   "cell_type": "code",
   "execution_count": null,
   "metadata": {},
   "outputs": [],
   "source": []
  },
  {
   "cell_type": "code",
   "execution_count": null,
   "metadata": {},
   "outputs": [],
   "source": []
  }
 ],
 "metadata": {
  "kernelspec": {
   "display_name": "Python 3",
   "language": "python",
   "name": "python3"
  },
  "language_info": {
   "codemirror_mode": {
    "name": "ipython",
    "version": 3
   },
   "file_extension": ".py",
   "mimetype": "text/x-python",
   "name": "python",
   "nbconvert_exporter": "python",
   "pygments_lexer": "ipython3",
   "version": "3.8.5"
  }
 },
 "nbformat": 4,
 "nbformat_minor": 4
}
